{
 "cells": [
  {
   "cell_type": "markdown",
   "metadata": {},
   "source": [
    "## Analysis & Dashboard README Explanation "
   ]
  },
  {
   "cell_type": "markdown",
   "metadata": {},
   "source": [
    "#### **NOTE: Please run all code through Jupyter Notebook. When attempting to run all code through Jupyter Lab certain visualizations do not display. Thank you!**"
   ]
  },
  {
   "cell_type": "markdown",
   "metadata": {},
   "source": [
    "## Welcome!\n",
    "#### The information in the tabs within my dashboard display visualizations powered through PyViz to depict specific property information of the San Francisco Area from 2010 to 2016.\n",
    "#### Please select from any of the following tabs to explore through the distanct visualizations of my analysis and dashboard."
   ]
  },
  {
   "cell_type": "markdown",
   "metadata": {},
   "source": [
    "### Analysis \n",
    "\n",
    "#### Within the beginning of the rental analysis you will find the necessary imports, panel extension and mapbox api key lines of code which should all be run prior to proceeding with the analysis. \n",
    "\n",
    "#### After this is complete, you will run the line of code provided to calculate the housing units per year followed by plotting a bar chart to display the previous information as a visualization. \n",
    "\n",
    "#### Following this section, you will run the line of code provided to calculate the average gross rent and average sales price followed by plotting the results as a line chart. \n",
    "\n",
    "#### Next within the given code, you will find the mean prices per year and neighborhood in order to create an interactive visualization using hvplot of the average prices, which will also provide a dropdown selector with the visual. \n",
    "\n",
    "#### As we proceed, you will now calculate the mean sale price for each neighborhood in order to find the top 10 most expensive neighborhoods followed by a bar chart visualization. \n",
    "\n",
    "#### You will then utilize plotly express to create parallel coordinates and parallel categories visualizations which will allow investors to interact & explore the information about the sales price of the San Francisco neighborhoods. \n",
    "\n",
    "#### Lastly, you will read in data in order to find the average prices per neighborhood and then build an interactive map with your mapbox api key to create the visualization using plotly express. \n",
    "\n",
    "### Dashboard\n",
    "\n",
    "#### In the dashboard, you will run your imports, read in your mapbox api key, and convert the functions provided to a Panel pane in order to run multiple panel visualizations to ensure all lines of code of displaying correctly. Then, you will serve the panel dashboard by running the following line of code: \"panel serve NAME OF IPYNB FILE --log-level debug --show\". You will then be directed to a panel application within your browser that will display all of your visualizations. "
   ]
  },
  {
   "cell_type": "code",
   "execution_count": null,
   "metadata": {},
   "outputs": [],
   "source": []
  }
 ],
 "metadata": {
  "kernelspec": {
   "display_name": "alpacaenv",
   "language": "python",
   "name": "alpacaenv"
  },
  "language_info": {
   "codemirror_mode": {
    "name": "ipython",
    "version": 3
   },
   "file_extension": ".py",
   "mimetype": "text/x-python",
   "name": "python",
   "nbconvert_exporter": "python",
   "pygments_lexer": "ipython3",
   "version": "3.8.3"
  }
 },
 "nbformat": 4,
 "nbformat_minor": 4
}
